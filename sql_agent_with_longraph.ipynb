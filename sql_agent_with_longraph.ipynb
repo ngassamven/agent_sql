{
 "cells": [
  {
   "metadata": {},
   "cell_type": "markdown",
   "source": "### CREATION DE LA BD",
   "id": "9495f4f522a3f21c"
  },
  {
   "metadata": {
    "collapsed": true,
    "ExecuteTime": {
     "end_time": "2025-01-21T13:22:09.206761Z",
     "start_time": "2025-01-21T13:22:08.150530Z"
    }
   },
   "cell_type": "code",
   "outputs": [],
   "execution_count": 15,
   "source": [
    "import sqlite3\n",
    "\n",
    "from debugpy.adapter.servers import connections\n",
    "from groq import BaseModel\n",
    "from streamlit import cursor"
   ],
   "id": "initial_id"
  },
  {
   "metadata": {},
   "cell_type": "code",
   "outputs": [],
   "execution_count": null,
   "source": "",
   "id": "144a07ee35f7bce1"
  },
  {
   "metadata": {
    "ExecuteTime": {
     "end_time": "2025-01-21T13:22:09.252070Z",
     "start_time": "2025-01-21T13:22:09.245713Z"
    }
   },
   "cell_type": "code",
   "source": "import pandas as pd",
   "id": "9b6a20f43f24b693",
   "outputs": [],
   "execution_count": 16
  },
  {
   "metadata": {
    "ExecuteTime": {
     "end_time": "2025-01-21T13:22:09.312946Z",
     "start_time": "2025-01-21T13:22:09.309002Z"
    }
   },
   "cell_type": "code",
   "source": "connection = sqlite3.connect(\"mydb.db\")\n",
   "id": "665e6172901e82d8",
   "outputs": [],
   "execution_count": 17
  },
  {
   "metadata": {
    "ExecuteTime": {
     "end_time": "2025-01-21T13:22:09.359731Z",
     "start_time": "2025-01-21T13:22:09.354176Z"
    }
   },
   "cell_type": "code",
   "source": "connection",
   "id": "ffc0fdf354cf31ac",
   "outputs": [
    {
     "data": {
      "text/plain": [
       "<sqlite3.Connection at 0x266842f26b0>"
      ]
     },
     "execution_count": 18,
     "metadata": {},
     "output_type": "execute_result"
    }
   ],
   "execution_count": 18
  },
  {
   "metadata": {
    "ExecuteTime": {
     "end_time": "2025-01-21T13:22:09.419418Z",
     "start_time": "2025-01-21T13:22:09.415826Z"
    }
   },
   "cell_type": "code",
   "source": [
    "table_creation_query=\"\"\"\n",
    "CREATE TABLE IF NOT EXISTS employees (\n",
    "    emp_id INTEGER PRIMARY KEY ,\n",
    "    first_name TEXT NOT NULL,\n",
    "    last_name TEXT NOT NULL,\n",
    "    email TEXT unique NOT NULL,\n",
    "    hire_date TEXT NOT NULL,\n",
    "    salary REAL NOT NULL\n",
    ");\n",
    "\"\"\"\n"
   ],
   "id": "fbfa63e764cc8643",
   "outputs": [],
   "execution_count": 19
  },
  {
   "metadata": {
    "ExecuteTime": {
     "end_time": "2025-01-21T13:22:09.494264Z",
     "start_time": "2025-01-21T13:22:09.489300Z"
    }
   },
   "cell_type": "code",
   "source": [
    "table_creation_query2=\"\"\"\n",
    "CREATE TABLE IF NOT EXISTS customers (\n",
    "    customer_id INTEGER PRIMARY KEY ,\n",
    "    first_name TEXT NOT NULL,\n",
    "    last_name TEXT NOT NULL,\n",
    "    email TEXT unique NOT NULL,\n",
    "    phone TEXT\n",
    ");\n",
    "\"\"\""
   ],
   "id": "22d9c9009e4ca1a5",
   "outputs": [],
   "execution_count": 20
  },
  {
   "metadata": {
    "ExecuteTime": {
     "end_time": "2025-01-21T13:22:09.567641Z",
     "start_time": "2025-01-21T13:22:09.556044Z"
    }
   },
   "cell_type": "code",
   "source": [
    "table_creation_query3=\"\"\"\n",
    "CREATE TABLE IF NOT EXISTS orders (\n",
    "    order_id INTEGER PRIMARY KEY ,\n",
    "    customer_id INTEGER NOT NULL,\n",
    "    order_date TEXT NOT NULL,\n",
    "    amount REAL NOT NULL,\n",
    "    FOREIGN KEY(customer_id) REFERENCES customers (customer_id)\n",
    ");\n",
    "\"\"\""
   ],
   "id": "afc819c72fdcdb28",
   "outputs": [],
   "execution_count": 21
  },
  {
   "metadata": {
    "ExecuteTime": {
     "end_time": "2025-01-21T13:22:09.648219Z",
     "start_time": "2025-01-21T13:22:09.643236Z"
    }
   },
   "cell_type": "code",
   "source": "cusor = connection.cursor()",
   "id": "6d807a209cbe63f7",
   "outputs": [],
   "execution_count": 22
  },
  {
   "metadata": {
    "ExecuteTime": {
     "end_time": "2025-01-21T13:22:09.719983Z",
     "start_time": "2025-01-21T13:22:09.712303Z"
    }
   },
   "cell_type": "code",
   "source": [
    "cusor.execute(table_creation_query)\n",
    "cusor.execute(table_creation_query2)\n",
    "cusor.execute(table_creation_query3)"
   ],
   "id": "a856a6cec5838146",
   "outputs": [
    {
     "data": {
      "text/plain": [
       "<sqlite3.Cursor at 0x26683d71640>"
      ]
     },
     "execution_count": 23,
     "metadata": {},
     "output_type": "execute_result"
    }
   ],
   "execution_count": 23
  },
  {
   "metadata": {
    "ExecuteTime": {
     "end_time": "2025-01-21T13:22:10.762486Z",
     "start_time": "2025-01-21T13:22:09.754276Z"
    }
   },
   "cell_type": "code",
   "source": [
    "insert_query = \"\"\"\n",
    "INSERT INTO employees(emp_id, first_name, last_name, email, hire_date, salary) values (?, ?, ?, ?, ?, ?); \"\"\"\n",
    "\n",
    "insert_query_customers = \"\"\"\n",
    "INSERT INTO customers(customer_id, first_name, last_name, email, phone) values (?, ?, ?, ?, ?); \"\"\"\n",
    "\n",
    "insert_query_orders = \"\"\"\n",
    "INSERT INTO orders(order_id, customer_id, order_date, amount) values (?, ?, ?, ?); \"\"\"  # Correction: order_date\n",
    "\n",
    "employee_data = [\n",
    "    (1, 'John', 'Doe', 'john.doe@example.com', '2022-05-15', 55000),\n",
    "    (2, 'Jane', 'Smith', 'jane.smith@example.com', '2021-03-10', 60000),\n",
    "    (3, 'Michael', 'Johnson', 'michael.johnson@example.com', '2020-07-22', 65000),\n",
    "]\n",
    "\n",
    "customer_data = [\n",
    "    (1, 'Alice', 'Brown', 'alice.brown@example.com', '123-456-7890'),\n",
    "    (2, 'Bob', 'Davis', 'bob.davis@example.com', '987-654-3210'),\n",
    "    (3, 'Charlie', 'Wilson', 'charlie.wilson@example.com', '555-123-4567'),\n",
    "]\n",
    "\n",
    "order_data = [\n",
    "    (1, 1, '2023-01-10', 200.75),\n",
    "    (2, 2, '2022-11-15', 150.50),\n",
    "    (3, 3, '2023-02-01', 300.00),\n",
    "]\n",
    "\n",
    "# Exécution des requêtes d'insertion\n",
    "cusor.executemany(insert_query, employee_data)\n",
    "cusor.executemany(insert_query_customers, customer_data)\n",
    "cusor.executemany(insert_query_orders, order_data)\n"
   ],
   "id": "e51fe15ee77f052",
   "outputs": [
    {
     "ename": "IntegrityError",
     "evalue": "UNIQUE constraint failed: employees.emp_id",
     "output_type": "error",
     "traceback": [
      "\u001B[1;31m---------------------------------------------------------------------------\u001B[0m",
      "\u001B[1;31mIntegrityError\u001B[0m                            Traceback (most recent call last)",
      "Cell \u001B[1;32mIn[24], line 29\u001B[0m\n\u001B[0;32m     22\u001B[0m order_data \u001B[38;5;241m=\u001B[39m [\n\u001B[0;32m     23\u001B[0m     (\u001B[38;5;241m1\u001B[39m, \u001B[38;5;241m1\u001B[39m, \u001B[38;5;124m'\u001B[39m\u001B[38;5;124m2023-01-10\u001B[39m\u001B[38;5;124m'\u001B[39m, \u001B[38;5;241m200.75\u001B[39m),\n\u001B[0;32m     24\u001B[0m     (\u001B[38;5;241m2\u001B[39m, \u001B[38;5;241m2\u001B[39m, \u001B[38;5;124m'\u001B[39m\u001B[38;5;124m2022-11-15\u001B[39m\u001B[38;5;124m'\u001B[39m, \u001B[38;5;241m150.50\u001B[39m),\n\u001B[0;32m     25\u001B[0m     (\u001B[38;5;241m3\u001B[39m, \u001B[38;5;241m3\u001B[39m, \u001B[38;5;124m'\u001B[39m\u001B[38;5;124m2023-02-01\u001B[39m\u001B[38;5;124m'\u001B[39m, \u001B[38;5;241m300.00\u001B[39m),\n\u001B[0;32m     26\u001B[0m ]\n\u001B[0;32m     28\u001B[0m \u001B[38;5;66;03m# Exécution des requêtes d'insertion\u001B[39;00m\n\u001B[1;32m---> 29\u001B[0m \u001B[43mcusor\u001B[49m\u001B[38;5;241;43m.\u001B[39;49m\u001B[43mexecutemany\u001B[49m\u001B[43m(\u001B[49m\u001B[43minsert_query\u001B[49m\u001B[43m,\u001B[49m\u001B[43m \u001B[49m\u001B[43memployee_data\u001B[49m\u001B[43m)\u001B[49m\n\u001B[0;32m     30\u001B[0m cusor\u001B[38;5;241m.\u001B[39mexecutemany(insert_query_customers, customer_data)\n\u001B[0;32m     31\u001B[0m cusor\u001B[38;5;241m.\u001B[39mexecutemany(insert_query_orders, order_data)\n",
      "\u001B[1;31mIntegrityError\u001B[0m: UNIQUE constraint failed: employees.emp_id"
     ]
    }
   ],
   "execution_count": 24
  },
  {
   "metadata": {
    "ExecuteTime": {
     "end_time": "2025-01-21T13:22:10.784835700Z",
     "start_time": "2025-01-21T12:50:50.044944Z"
    }
   },
   "cell_type": "code",
   "source": "connection.commit()",
   "id": "17d6c709b2becba0",
   "outputs": [],
   "execution_count": 12
  },
  {
   "metadata": {
    "ExecuteTime": {
     "end_time": "2025-01-21T13:22:46.181342Z",
     "start_time": "2025-01-21T13:22:46.175382Z"
    }
   },
   "cell_type": "code",
   "source": "cusor.execute('SELECT * FROM customers;')",
   "id": "1fc2aaedb1ab5cb1",
   "outputs": [
    {
     "data": {
      "text/plain": [
       "<sqlite3.Cursor at 0x26683d71640>"
      ]
     },
     "execution_count": 27,
     "metadata": {},
     "output_type": "execute_result"
    }
   ],
   "execution_count": 27
  },
  {
   "metadata": {
    "ExecuteTime": {
     "end_time": "2025-01-21T13:22:47.269608Z",
     "start_time": "2025-01-21T13:22:47.264160Z"
    }
   },
   "cell_type": "code",
   "source": [
    "for row in cusor.fetchall():\n",
    "    print(row)"
   ],
   "id": "1ee6c4726885b083",
   "outputs": [
    {
     "name": "stdout",
     "output_type": "stream",
     "text": [
      "(1, 'Alice', 'Brown', 'alice.brown@example.com', '123-456-7890')\n",
      "(2, 'Bob', 'Davis', 'bob.davis@example.com', '987-654-3210')\n",
      "(3, 'Charlie', 'Wilson', 'charlie.wilson@example.com', '555-123-4567')\n"
     ]
    }
   ],
   "execution_count": 28
  },
  {
   "metadata": {
    "ExecuteTime": {
     "end_time": "2025-01-21T13:43:16.832238Z",
     "start_time": "2025-01-21T13:43:15.656782Z"
    }
   },
   "cell_type": "code",
   "source": "from langchain_community.utilities import SQLDatabase",
   "id": "4ce211e3b5e0b389",
   "outputs": [],
   "execution_count": 33
  },
  {
   "metadata": {
    "ExecuteTime": {
     "end_time": "2025-01-21T13:48:28.093784Z",
     "start_time": "2025-01-21T13:48:28.042973Z"
    }
   },
   "cell_type": "code",
   "source": [
    "#from langchain_community.utilities import SQLDatabase\n",
    "\n",
    "# Inclure sqlite:///\n",
    "db = SQLDatabase.from_uri(\"sqlite:///mydb.db\")\n"
   ],
   "id": "a9e08ceb27d37281",
   "outputs": [],
   "execution_count": 37
  },
  {
   "metadata": {
    "ExecuteTime": {
     "end_time": "2025-01-21T13:48:44.050467Z",
     "start_time": "2025-01-21T13:48:44.038120Z"
    }
   },
   "cell_type": "code",
   "source": "db",
   "id": "4db85456b7a155ef",
   "outputs": [
    {
     "data": {
      "text/plain": [
       "<langchain_community.utilities.sql_database.SQLDatabase at 0x266858389d0>"
      ]
     },
     "execution_count": 38,
     "metadata": {},
     "output_type": "execute_result"
    }
   ],
   "execution_count": 38
  },
  {
   "metadata": {
    "ExecuteTime": {
     "end_time": "2025-01-21T13:50:53.306375Z",
     "start_time": "2025-01-21T13:50:53.298724Z"
    }
   },
   "cell_type": "code",
   "source": "db.dialect",
   "id": "9ba8237e246f983b",
   "outputs": [
    {
     "data": {
      "text/plain": [
       "'sqlite'"
      ]
     },
     "execution_count": 39,
     "metadata": {},
     "output_type": "execute_result"
    }
   ],
   "execution_count": 39
  },
  {
   "metadata": {
    "ExecuteTime": {
     "end_time": "2025-01-21T13:52:42.692877Z",
     "start_time": "2025-01-21T13:52:42.682746Z"
    }
   },
   "cell_type": "code",
   "source": "db.get_usable_table_names()",
   "id": "23de8f02a151a2fb",
   "outputs": [
    {
     "data": {
      "text/plain": [
       "['customers', 'employees', 'orders']"
      ]
     },
     "execution_count": 41,
     "metadata": {},
     "output_type": "execute_result"
    }
   ],
   "execution_count": 41
  },
  {
   "metadata": {
    "ExecuteTime": {
     "end_time": "2025-01-22T14:31:34.539142Z",
     "start_time": "2025-01-22T14:31:33.145969Z"
    }
   },
   "cell_type": "code",
   "source": [
    "from langchain_groq import ChatGroq\n",
    "\n",
    "# Votre clé API\n",
    "api_key = \"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\"\n",
    "\n",
    "# Initialiser le client ChatGroq avec la clé API\n",
    "llm = ChatGroq(model=\"llama3-8b-8192\", api_key=api_key)\n",
    "\n",
    "# Exemple d'appel au modèle\n",
    "\n"
   ],
   "id": "a92d9d28ad6e5740",
   "outputs": [],
   "execution_count": 3
  },
  {
   "metadata": {
    "ExecuteTime": {
     "end_time": "2025-01-22T14:31:41.994099Z",
     "start_time": "2025-01-22T14:31:41.141467Z"
    }
   },
   "cell_type": "code",
   "source": [
    "response = llm.invoke(\"Hello, how are you?\")\n",
    "print(response)"
   ],
   "id": "ca52a900c079f2d7",
   "outputs": [
    {
     "name": "stdout",
     "output_type": "stream",
     "text": [
      "content=\"I'm just an AI, I don't have feelings like humans do, but I'm functioning properly and ready to assist you with any questions or tasks you may have! It's great to chat with you. How can I help you today?\" additional_kwargs={} response_metadata={'token_usage': {'completion_tokens': 50, 'prompt_tokens': 16, 'total_tokens': 66, 'completion_time': 0.041666667, 'prompt_time': 0.005745321, 'queue_time': 0.572284951, 'total_time': 0.047411988}, 'model_name': 'llama3-8b-8192', 'system_fingerprint': 'fp_6a6771ae9c', 'finish_reason': 'stop', 'logprobs': None} id='run-67c675e5-30ad-4b20-af8d-4b6c7ffd68a7-0' usage_metadata={'input_tokens': 16, 'output_tokens': 50, 'total_tokens': 66}\n"
     ]
    }
   ],
   "execution_count": 4
  },
  {
   "metadata": {
    "ExecuteTime": {
     "end_time": "2025-01-21T15:34:18.347426Z",
     "start_time": "2025-01-21T15:34:18.266205Z"
    }
   },
   "cell_type": "code",
   "source": "from langchain_community.agent_toolkits import SQLDatabaseToolkit",
   "id": "4b9fb8466127960e",
   "outputs": [],
   "execution_count": 68
  },
  {
   "metadata": {
    "ExecuteTime": {
     "end_time": "2025-01-21T15:36:27.508422Z",
     "start_time": "2025-01-21T15:36:27.503470Z"
    }
   },
   "cell_type": "code",
   "source": "toolkit = SQLDatabaseToolkit(db=db, llm=llm)",
   "id": "dd093e66c682ccba",
   "outputs": [],
   "execution_count": 69
  },
  {
   "metadata": {
    "ExecuteTime": {
     "end_time": "2025-01-21T15:38:36.047112Z",
     "start_time": "2025-01-21T15:38:36.042269Z"
    }
   },
   "cell_type": "code",
   "source": "tools=toolkit.get_tools()",
   "id": "11973bfad914f820",
   "outputs": [],
   "execution_count": 72
  },
  {
   "metadata": {
    "ExecuteTime": {
     "end_time": "2025-01-21T15:39:58.475766Z",
     "start_time": "2025-01-21T15:39:58.470689Z"
    }
   },
   "cell_type": "code",
   "source": [
    "for tool in tools:\n",
    "    print(tool.name)"
   ],
   "id": "1a5d1facc8848969",
   "outputs": [
    {
     "name": "stdout",
     "output_type": "stream",
     "text": [
      "sql_db_query\n",
      "sql_db_schema\n",
      "sql_db_list_tables\n",
      "sql_db_query_checker\n"
     ]
    }
   ],
   "execution_count": 73
  },
  {
   "metadata": {
    "ExecuteTime": {
     "end_time": "2025-01-21T15:43:24.726081Z",
     "start_time": "2025-01-21T15:43:24.720009Z"
    }
   },
   "cell_type": "code",
   "source": "list_tables_tool = next((tool for tool in tools if tool.name == \"sql_db_list_tables\"),None)",
   "id": "c9fd72d807b48188",
   "outputs": [],
   "execution_count": 75
  },
  {
   "metadata": {
    "ExecuteTime": {
     "end_time": "2025-01-21T15:43:37.998835Z",
     "start_time": "2025-01-21T15:43:37.991915Z"
    }
   },
   "cell_type": "code",
   "source": "list_tables_tool",
   "id": "1a8cb4dbfe1397b6",
   "outputs": [
    {
     "data": {
      "text/plain": [
       "ListSQLDatabaseTool(db=<langchain_community.utilities.sql_database.SQLDatabase object at 0x00000266858389D0>)"
      ]
     },
     "execution_count": 76,
     "metadata": {},
     "output_type": "execute_result"
    }
   ],
   "execution_count": 76
  },
  {
   "metadata": {
    "ExecuteTime": {
     "end_time": "2025-01-21T15:45:29.043610Z",
     "start_time": "2025-01-21T15:45:29.038777Z"
    }
   },
   "cell_type": "code",
   "source": "get_schema_tool = next((tool for tool in tools if tool.name == \"sql_db_schema\"),None)",
   "id": "a3db188d549bedac",
   "outputs": [],
   "execution_count": 77
  },
  {
   "metadata": {
    "ExecuteTime": {
     "end_time": "2025-01-21T15:45:40.618935Z",
     "start_time": "2025-01-21T15:45:40.607255Z"
    }
   },
   "cell_type": "code",
   "source": "get_schema_tool",
   "id": "f56c884ffd546747",
   "outputs": [
    {
     "data": {
      "text/plain": [
       "InfoSQLDatabaseTool(description='Input to this tool is a comma-separated list of tables, output is the schema and sample rows for those tables. Be sure that the tables actually exist by calling sql_db_list_tables first! Example Input: table1, table2, table3', db=<langchain_community.utilities.sql_database.SQLDatabase object at 0x00000266858389D0>)"
      ]
     },
     "execution_count": 78,
     "metadata": {},
     "output_type": "execute_result"
    }
   ],
   "execution_count": 78
  },
  {
   "metadata": {
    "ExecuteTime": {
     "end_time": "2025-01-21T15:47:30.318543Z",
     "start_time": "2025-01-21T15:47:30.309504Z"
    }
   },
   "cell_type": "code",
   "source": "list_tables_tool.invoke(\"\")",
   "id": "36268001ac4fa7a7",
   "outputs": [
    {
     "data": {
      "text/plain": [
       "'customers, employees, orders'"
      ]
     },
     "execution_count": 80,
     "metadata": {},
     "output_type": "execute_result"
    }
   ],
   "execution_count": 80
  },
  {
   "metadata": {
    "ExecuteTime": {
     "end_time": "2025-01-21T15:50:56.873951Z",
     "start_time": "2025-01-21T15:50:56.862672Z"
    }
   },
   "cell_type": "code",
   "source": "print(get_schema_tool.invoke(\"customers\"))",
   "id": "5c45f5d0dcb9daf3",
   "outputs": [
    {
     "name": "stdout",
     "output_type": "stream",
     "text": [
      "\n",
      "CREATE TABLE customers (\n",
      "\tcustomer_id INTEGER, \n",
      "\tfirst_name TEXT NOT NULL, \n",
      "\tlast_name TEXT NOT NULL, \n",
      "\temail TEXT NOT NULL, \n",
      "\tphone TEXT, \n",
      "\tPRIMARY KEY (customer_id), \n",
      "\tUNIQUE (email)\n",
      ")\n",
      "\n",
      "/*\n",
      "3 rows from customers table:\n",
      "customer_id\tfirst_name\tlast_name\temail\tphone\n",
      "1\tAlice\tBrown\talice.brown@example.com\t123-456-7890\n",
      "2\tBob\tDavis\tbob.davis@example.com\t987-654-3210\n",
      "3\tCharlie\tWilson\tcharlie.wilson@example.com\t555-123-4567\n",
      "*/\n"
     ]
    }
   ],
   "execution_count": 83
  },
  {
   "metadata": {
    "ExecuteTime": {
     "end_time": "2025-01-21T16:32:42.192304Z",
     "start_time": "2025-01-21T16:32:42.179125Z"
    }
   },
   "cell_type": "code",
   "source": [
    "from langchain_core.tools import tool\n",
    "\n",
    "@tool\n",
    "def db_query_tool(query: str) -> str:\n",
    "    \"\"\"\n",
    "    Executes a database query and returns the result.\n",
    "\n",
    "    Parameters:\n",
    "        query (str): The database query string to be executed.\n",
    "\n",
    "    Returns:\n",
    "        str: The result of the query, or an error message if the query fails.\n",
    "    \"\"\"\n",
    "    result = db.run_no_throw(query)\n",
    "    if not result:\n",
    "        return \"Error: Query failed. Rewrite your query.\"\n",
    "    return result\n"
   ],
   "id": "6b9d5b3a41831829",
   "outputs": [],
   "execution_count": 88
  },
  {
   "metadata": {
    "ExecuteTime": {
     "end_time": "2025-01-21T16:33:12.051367Z",
     "start_time": "2025-01-21T16:33:12.031938Z"
    }
   },
   "cell_type": "code",
   "source": "db.run(\"select * from customers\")",
   "id": "c308e3f02c3b3966",
   "outputs": [
    {
     "data": {
      "text/plain": [
       "\"[(1, 'Alice', 'Brown', 'alice.brown@example.com', '123-456-7890'), (2, 'Bob', 'Davis', 'bob.davis@example.com', '987-654-3210'), (3, 'Charlie', 'Wilson', 'charlie.wilson@example.com', '555-123-4567')]\""
      ]
     },
     "execution_count": 89,
     "metadata": {},
     "output_type": "execute_result"
    }
   ],
   "execution_count": 89
  },
  {
   "metadata": {
    "ExecuteTime": {
     "end_time": "2025-01-21T20:02:40.920893Z",
     "start_time": "2025-01-21T20:02:40.911444Z"
    }
   },
   "cell_type": "code",
   "source": "db_query_tool.invoke(\"select * from customers\")",
   "id": "25aa8af341d375d7",
   "outputs": [
    {
     "data": {
      "text/plain": [
       "\"[(1, 'Alice', 'Brown', 'alice.brown@example.com', '123-456-7890'), (2, 'Bob', 'Davis', 'bob.davis@example.com', '987-654-3210'), (3, 'Charlie', 'Wilson', 'charlie.wilson@example.com', '555-123-4567')]\""
      ]
     },
     "execution_count": 94,
     "metadata": {},
     "output_type": "execute_result"
    }
   ],
   "execution_count": 94
  },
  {
   "metadata": {},
   "cell_type": "markdown",
   "source": [
    "## query_check\n",
    "\n",
    "## query_gen"
   ],
   "id": "7365c9c392e3a39b"
  },
  {
   "metadata": {
    "ExecuteTime": {
     "end_time": "2025-01-22T09:08:45.538939Z",
     "start_time": "2025-01-22T09:08:45.533587Z"
    }
   },
   "cell_type": "code",
   "source": [
    "import warnings\n",
    "warnings.filterwarnings(\"ignore\")"
   ],
   "id": "e8105aa11e8d19f9",
   "outputs": [],
   "execution_count": 117
  },
  {
   "metadata": {
    "ExecuteTime": {
     "end_time": "2025-01-22T08:58:31.070444Z",
     "start_time": "2025-01-22T08:58:31.057115Z"
    }
   },
   "cell_type": "code",
   "source": [
    "from typing import Annotated, Literal\n",
    "from langchain_core.messages import AIMessage\n",
    "from langchain_core.pydantic_v1 import BaseModel, Field # Updated to import directly from pydantic\n",
    "from typing_extensions import TypedDict\n",
    "from langgraph.graph import END, StateGraph, START\n",
    "from langgraph.graph.message import AnyMessage, add_messages\n",
    "from typing import Any\n",
    "from langchain_core.runnables import RunnableLambda, RunnableWithFallbacks\n",
    "from langgraph.prebuilt import ToolNode"
   ],
   "id": "e01438bec04c2f0a",
   "outputs": [],
   "execution_count": 116
  },
  {
   "metadata": {
    "ExecuteTime": {
     "end_time": "2025-01-22T07:13:56.596968Z",
     "start_time": "2025-01-22T07:13:56.588139Z"
    }
   },
   "cell_type": "code",
   "outputs": [],
   "execution_count": 102,
   "source": "from langchain_core.prompts import ChatPromptTemplate",
   "id": "d5c2a2a139e71612"
  },
  {
   "metadata": {
    "ExecuteTime": {
     "end_time": "2025-01-22T09:13:44.635223Z",
     "start_time": "2025-01-22T09:13:44.610032Z"
    }
   },
   "cell_type": "code",
   "source": [
    "from langchain_core.prompts import ChatPromptTemplate\n",
    "\n",
    "query_check_system = \"\"\"You are a SQL expert with a strong attention to detail.\n",
    "Double check the SQLite query for common mistakes, including:\n",
    "- Using NOT IN with NULL values\n",
    "- Using UNION when UNION ALL should have been used\n",
    "- Using BETWEEN for exclusive ranges\n",
    "- Data type mismatch in predicates\n",
    "- Properly quoting identifiers\n",
    "- Using the correct number of arguments for functions\n",
    "- Casting to the correct data type\n",
    "- Using the proper columns for joins\n",
    "\n",
    "If there are any of the above mistakes, rewrite the query. If there are no mistakes, just reproduce the original query.\n",
    "\n",
    "You will call the appropriate tool to execute the query after running this check.\"\"\"\n",
    "\n",
    "query_check_prompt = ChatPromptTemplate.from_messages([(\"system\", query_check_system), (\"placeholder\", \"{messages}\")])\n",
    "\n",
    "query_check = query_check_prompt | llm.bind_tools([db_query_tool])"
   ],
   "id": "ec42421c9ab935c",
   "outputs": [],
   "execution_count": 118
  },
  {
   "metadata": {
    "ExecuteTime": {
     "end_time": "2025-01-22T09:14:00.323046Z",
     "start_time": "2025-01-22T09:13:59.805442Z"
    }
   },
   "cell_type": "code",
   "source": [
    "\n",
    "\n",
    "query_check.invoke({\"messages\": [(\"user\", \"SELECT * FROM Employees LIMIT 5;\")]})\n",
    "\n"
   ],
   "id": "78081a00ad810e22",
   "outputs": [
    {
     "data": {
      "text/plain": [
       "AIMessage(content='', additional_kwargs={'tool_calls': [{'id': 'call_90t8', 'function': {'arguments': '{\"query\":\"SELECT * FROM Employees LIMIT 5\"}', 'name': 'db_query_tool'}, 'type': 'function'}]}, response_metadata={'token_usage': {'completion_tokens': 73, 'prompt_tokens': 1083, 'total_tokens': 1156, 'completion_time': 0.060833333, 'prompt_time': 0.131706685, 'queue_time': 0.020172300000000004, 'total_time': 0.192540018}, 'model_name': 'llama3-8b-8192', 'system_fingerprint': 'fp_6a6771ae9c', 'finish_reason': 'tool_calls', 'logprobs': None}, id='run-3c0195db-89fb-4ba3-9da7-db1eecceea4a-0', tool_calls=[{'name': 'db_query_tool', 'args': {'query': 'SELECT * FROM Employees LIMIT 5'}, 'id': 'call_90t8', 'type': 'tool_call'}], usage_metadata={'input_tokens': 1083, 'output_tokens': 73, 'total_tokens': 1156})"
      ]
     },
     "execution_count": 119,
     "metadata": {},
     "output_type": "execute_result"
    }
   ],
   "execution_count": 119
  },
  {
   "metadata": {
    "ExecuteTime": {
     "end_time": "2025-01-22T09:14:51.760820Z",
     "start_time": "2025-01-22T09:14:51.744192Z"
    }
   },
   "cell_type": "code",
   "source": [
    "class SubmitFinalAnswer(BaseModel):\n",
    "    \"\"\"Submit the final answer to the user based on the query results.\"\"\"\n",
    "    final_answer: str = Field(..., description=\"The final answer to the user\")\n",
    "\n",
    "\n",
    "# Add a node for a model to generate a query based on the question and schema\n",
    "query_gen_system = \"\"\"You are a SQL expert with a strong attention to detail.\n",
    "\n",
    "Given an input question, output a syntactically correct SQLite query to run, then look at the results of the query and return the answer.\n",
    "\n",
    "DO NOT call any tool besides SubmitFinalAnswer to submit the final answer.\n",
    "\n",
    "When generating the query:\n",
    "\n",
    "Output the SQL query that answers the input question without a tool call.\n",
    "\n",
    "Unless the user specifies a specific number of examples they wish to obtain, always limit your query to at most 5 results.\n",
    "You can order the results by a relevant column to return the most interesting examples in the database.\n",
    "Never query for all the columns from a specific table, only ask for the relevant columns given the question.\n",
    "\n",
    "If you get an error while executing a query, rewrite the query and try again.\n",
    "\n",
    "If you get an empty result set, you should try to rewrite the query to get a non-empty result set.\n",
    "NEVER make stuff up if you don't have enough information to answer the query... just say you don't have enough information.\n",
    "\n",
    "If you have enough information to answer the input question, simply invoke the appropriate tool to submit the final answer to the user.\n",
    "\n",
    "DO NOT make any DML statements (INSERT, UPDATE, DELETE, DROP etc.) to the database. Do not return any sql query except answer.\"\"\"\n",
    "\n",
    "\n",
    "query_gen_prompt = ChatPromptTemplate.from_messages([(\"system\", query_gen_system), (\"placeholder\", \"{messages}\")])\n",
    "\n",
    "query_gen = query_gen_prompt | llm.bind_tools([SubmitFinalAnswer])"
   ],
   "id": "640690d15c46ba9e",
   "outputs": [],
   "execution_count": 120
  },
  {
   "metadata": {
    "ExecuteTime": {
     "end_time": "2025-01-22T09:15:07.248147Z",
     "start_time": "2025-01-22T09:15:07.241826Z"
    }
   },
   "cell_type": "code",
   "source": [
    "class State(TypedDict):\n",
    "    messages: Annotated[list[AnyMessage], add_messages]"
   ],
   "id": "ca0cfa1b7e0dbc51",
   "outputs": [],
   "execution_count": 121
  },
  {
   "metadata": {
    "ExecuteTime": {
     "end_time": "2025-01-22T09:16:39.470001Z",
     "start_time": "2025-01-22T09:16:39.461098Z"
    }
   },
   "cell_type": "code",
   "source": [
    "def first_tool_call(state:State)->dict[str,list[AIMessage]]:\n",
    "    return{\"messages\": [AIMessage(content=\"\",tool_calls=[{\"name\":\"sql_db_list_tables\",\"args\":{},\"id\":\"tool_abcd123\"}])]}"
   ],
   "id": "b0b922786c25091c",
   "outputs": [],
   "execution_count": 122
  },
  {
   "metadata": {
    "ExecuteTime": {
     "end_time": "2025-01-22T09:17:25.037454Z",
     "start_time": "2025-01-22T09:17:25.031743Z"
    }
   },
   "cell_type": "code",
   "source": [
    "def handle_tool_error(state:State):\n",
    "    error = state.get(\"error\")\n",
    "    tool_calls = state[\"messages\"][-1].tool_calls\n",
    "    return {\n",
    "        \"messages\": [\n",
    "        ToolMessage(content=f\"Error: {repr(error)}\\n please fix your mistakes.\",tool_call_id=tc[\"id\"],)\n",
    "        for tc in tool_calls\n",
    "        ]\n",
    "    }"
   ],
   "id": "ae789ffb89054f91",
   "outputs": [],
   "execution_count": 123
  },
  {
   "metadata": {
    "ExecuteTime": {
     "end_time": "2025-01-22T09:17:55.610557Z",
     "start_time": "2025-01-22T09:17:55.605128Z"
    }
   },
   "cell_type": "code",
   "source": [
    "def create_tool_node_with_fallback(tools:list)-> RunnableWithFallbacks[Any, dict]:\n",
    "    return ToolNode(tools).with_fallbacks([RunnableLambda(handle_tool_error)], exception_key=\"error\")\n"
   ],
   "id": "8d2ffb43d97c36b8",
   "outputs": [],
   "execution_count": 124
  },
  {
   "metadata": {
    "ExecuteTime": {
     "end_time": "2025-01-22T09:18:13.714684Z",
     "start_time": "2025-01-22T09:18:13.708387Z"
    }
   },
   "cell_type": "code",
   "source": [
    "def model_check_query(state:State):\n",
    "    return {\"messages\": [query_check.invoke({\"messages\": [state[\"messages\"][-1]]})]}"
   ],
   "id": "63abc84a269e9aeb",
   "outputs": [],
   "execution_count": 125
  },
  {
   "metadata": {
    "ExecuteTime": {
     "end_time": "2025-01-22T09:18:26.591551Z",
     "start_time": "2025-01-22T09:18:26.583661Z"
    }
   },
   "cell_type": "code",
   "source": [
    "def query_gen_node(state:State):\n",
    "    message = query_gen.invoke(state)\n",
    "\n",
    "    # Sometimes, the LLM will hallucinate and call the wrong tool. We need to catch this and return an error message.\n",
    "    tool_messages = []\n",
    "    if message.tool_calls:\n",
    "        for tc in message.tool_calls:\n",
    "            if tc[\"name\"] != \"SubmitFinalAnswer\":\n",
    "                tool_messages.append(\n",
    "                    ToolMessage(\n",
    "                        content=f\"Error: The wrong tool was called: {tc['name']}. Please fix your mistakes. Remember to only call SubmitFinalAnswer to submit the final answer. Generated queries should be outputted WITHOUT a tool call.\",\n",
    "                        tool_call_id=tc[\"id\"],\n",
    "                    )\n",
    "                )\n",
    "    else:\n",
    "        tool_messages = []\n",
    "    return {\"messages\": [message] + tool_messages}"
   ],
   "id": "2e8f820971591ca3",
   "outputs": [],
   "execution_count": 126
  },
  {
   "metadata": {
    "ExecuteTime": {
     "end_time": "2025-01-22T09:18:44.983300Z",
     "start_time": "2025-01-22T09:18:44.977385Z"
    }
   },
   "cell_type": "code",
   "source": [
    "def should_continue(state:State):\n",
    "    messages = state[\"messages\"]\n",
    "    last_message = messages[-1]\n",
    "    if getattr(last_message, \"tool_calls\", None):\n",
    "        return END\n",
    "    if last_message.content.startswith(\"Error:\"):\n",
    "        return \"query_gen\"\n",
    "    else:\n",
    "        return \"correct_query\""
   ],
   "id": "e7ca67d1aade16ae",
   "outputs": [],
   "execution_count": 127
  },
  {
   "metadata": {
    "ExecuteTime": {
     "end_time": "2025-01-22T09:19:02.456095Z",
     "start_time": "2025-01-22T09:19:02.451015Z"
    }
   },
   "cell_type": "code",
   "source": "workflow = StateGraph(State)",
   "id": "c6bda3377088da20",
   "outputs": [],
   "execution_count": 128
  },
  {
   "metadata": {
    "ExecuteTime": {
     "end_time": "2025-01-22T09:19:23.710948Z",
     "start_time": "2025-01-22T09:19:23.687420Z"
    }
   },
   "cell_type": "code",
   "source": [
    "workflow.add_node(\"first_tool_call\",first_tool_call)\n",
    "workflow.add_node(\"list_tables_tool\", create_tool_node_with_fallback([list_tables_tool]))\n",
    "workflow.add_node(\"get_schema_tool\", create_tool_node_with_fallback([get_schema_tool]))\n",
    "model_get_schema = llm.bind_tools([get_schema_tool])\n",
    "workflow.add_node(\"model_get_schema\",lambda state: {\"messages\": [model_get_schema.invoke(state[\"messages\"])],},)\n",
    "workflow.add_node(\"query_gen\", query_gen_node)\n",
    "workflow.add_node(\"correct_query\", model_check_query)\n",
    "workflow.add_node(\"execute_query\", create_tool_node_with_fallback([db_query_tool]))"
   ],
   "id": "5bcb20a394dca0e4",
   "outputs": [
    {
     "data": {
      "text/plain": [
       "<langgraph.graph.state.StateGraph at 0x2668b26ae90>"
      ]
     },
     "execution_count": 129,
     "metadata": {},
     "output_type": "execute_result"
    }
   ],
   "execution_count": 129
  },
  {
   "metadata": {
    "ExecuteTime": {
     "end_time": "2025-01-22T09:19:39.446764Z",
     "start_time": "2025-01-22T09:19:39.435249Z"
    }
   },
   "cell_type": "code",
   "source": [
    "workflow.add_edge(START, \"first_tool_call\")\n",
    "workflow.add_edge(\"first_tool_call\", \"list_tables_tool\")\n",
    "workflow.add_edge(\"list_tables_tool\", \"model_get_schema\")\n",
    "workflow.add_edge(\"model_get_schema\", \"get_schema_tool\")\n",
    "workflow.add_edge(\"get_schema_tool\", \"query_gen\")\n",
    "workflow.add_conditional_edges(\"query_gen\",should_continue,\n",
    "                               {END:END,\n",
    "                                \"query_gen\":\"query_gen\",\n",
    "                                \"correct_query\":\"correct_query\"})\n",
    "workflow.add_edge(\"correct_query\", \"execute_query\")\n",
    "workflow.add_edge(\"execute_query\", \"query_gen\")"
   ],
   "id": "50d6755152fa7cee",
   "outputs": [
    {
     "data": {
      "text/plain": [
       "<langgraph.graph.state.StateGraph at 0x2668b26ae90>"
      ]
     },
     "execution_count": 130,
     "metadata": {},
     "output_type": "execute_result"
    }
   ],
   "execution_count": 130
  },
  {
   "metadata": {
    "ExecuteTime": {
     "end_time": "2025-01-22T09:19:49.911570Z",
     "start_time": "2025-01-22T09:19:49.897588Z"
    }
   },
   "cell_type": "code",
   "source": "app=workflow.compile()",
   "id": "c0fbd5276ce60635",
   "outputs": [],
   "execution_count": 131
  },
  {
   "metadata": {
    "ExecuteTime": {
     "end_time": "2025-01-22T09:20:02.705392Z",
     "start_time": "2025-01-22T09:20:02.698038Z"
    }
   },
   "cell_type": "code",
   "source": "query={\"messages\": [(\"user\", \"how many order are there which is more than 300 rupees?\")]}",
   "id": "cda1be1086f366ab",
   "outputs": [],
   "execution_count": 132
  },
  {
   "metadata": {
    "ExecuteTime": {
     "end_time": "2025-01-22T09:20:10.657620Z",
     "start_time": "2025-01-22T09:20:08.954802Z"
    }
   },
   "cell_type": "code",
   "source": "response=app.invoke(query)",
   "id": "78756b21389bfdd8",
   "outputs": [],
   "execution_count": 133
  },
  {
   "metadata": {
    "ExecuteTime": {
     "end_time": "2025-01-22T09:20:15.907371Z",
     "start_time": "2025-01-22T09:20:15.897851Z"
    }
   },
   "cell_type": "code",
   "source": "response[\"messages\"][-1].tool_calls[0][\"args\"][\"final_answer\"]",
   "id": "6282364b46fbc8f8",
   "outputs": [
    {
     "data": {
      "text/plain": [
       "'There are 1 orders which are more than 300 rupees'"
      ]
     },
     "execution_count": 134,
     "metadata": {},
     "output_type": "execute_result"
    }
   ],
   "execution_count": 134
  },
  {
   "metadata": {
    "ExecuteTime": {
     "end_time": "2025-01-22T09:24:19.140803Z",
     "start_time": "2025-01-22T09:24:19.131087Z"
    }
   },
   "cell_type": "code",
   "source": [
    "query = {\"messages\": [(\"user\", \"how many orders are there which are more than 300 rupees?\")]}\n",
    "app.stream(input=query)"
   ],
   "id": "bf6814579097b416",
   "outputs": [
    {
     "data": {
      "text/plain": [
       "<generator object Pregel.stream at 0x000002668B2DC610>"
      ]
     },
     "execution_count": 136,
     "metadata": {},
     "output_type": "execute_result"
    }
   ],
   "execution_count": 136
  },
  {
   "metadata": {},
   "cell_type": "code",
   "outputs": [],
   "execution_count": null,
   "source": "",
   "id": "119c4cdc65254ed6"
  }
 ],
 "metadata": {
  "kernelspec": {
   "display_name": "Python 3",
   "language": "python",
   "name": "python3"
  },
  "language_info": {
   "codemirror_mode": {
    "name": "ipython",
    "version": 2
   },
   "file_extension": ".py",
   "mimetype": "text/x-python",
   "name": "python",
   "nbconvert_exporter": "python",
   "pygments_lexer": "ipython2",
   "version": "2.7.6"
  }
 },
 "nbformat": 4,
 "nbformat_minor": 5
}
